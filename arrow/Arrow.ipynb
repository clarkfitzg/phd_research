{
 "cells": [
  {
   "cell_type": "markdown",
   "metadata": {},
   "source": [
    "Reading data from the top of this page: http://anson.ucdavis.edu/~clarkf/"
   ]
  },
  {
   "cell_type": "code",
   "execution_count": 8,
   "metadata": {
    "collapsed": true
   },
   "outputs": [],
   "source": [
    "import os\n",
    "\n",
    "import pyarrow.parquet as pq"
   ]
  },
  {
   "cell_type": "code",
   "execution_count": 10,
   "metadata": {
    "collapsed": false
   },
   "outputs": [],
   "source": [
    "pems = pq.ParquetDataset(\"/home/clark/data/pems/pems_sorted/\")"
   ]
  },
  {
   "cell_type": "code",
   "execution_count": 14,
   "metadata": {
    "collapsed": false
   },
   "outputs": [
    {
     "data": {
      "text/plain": [
       "<pyarrow._parquet.ParquetSchema object at 0x7fe0c5016788>\n",
       "timeperiod: BYTE_ARRAY UTF8\n",
       "flow1: INT32\n",
       "occupancy1: DOUBLE\n",
       "speed1: DOUBLE\n",
       "flow2: INT32\n",
       "occupancy2: DOUBLE\n",
       "speed2: DOUBLE\n",
       "flow3: INT32\n",
       "occupancy3: DOUBLE\n",
       "speed3: DOUBLE\n",
       "flow4: INT32\n",
       "occupancy4: DOUBLE\n",
       "speed4: DOUBLE\n",
       "flow5: INT32\n",
       "occupancy5: DOUBLE\n",
       "speed5: DOUBLE\n",
       "flow6: INT32\n",
       "occupancy6: DOUBLE\n",
       "speed6: DOUBLE\n",
       "flow7: INT32\n",
       "occupancy7: DOUBLE\n",
       "speed7: DOUBLE\n",
       "flow8: INT32\n",
       "occupancy8: DOUBLE\n",
       "speed8: DOUBLE\n",
       " "
      ]
     },
     "execution_count": 14,
     "metadata": {},
     "output_type": "execute_result"
    }
   ],
   "source": [
    "pems.schema"
   ]
  },
  {
   "cell_type": "code",
   "execution_count": 19,
   "metadata": {
    "collapsed": false
   },
   "outputs": [
    {
     "data": {
      "text/plain": [
       "pyarrow.Table\n",
       "timeperiod: string\n",
       "flow1: int32\n",
       "occupancy1: double\n",
       "speed1: double\n",
       "flow2: int32\n",
       "occupancy2: double\n",
       "speed2: double\n",
       "flow3: int32\n",
       "occupancy3: double\n",
       "speed3: double\n",
       "flow4: int32\n",
       "occupancy4: double\n",
       "speed4: double\n",
       "flow5: int32\n",
       "occupancy5: double\n",
       "speed5: double\n",
       "flow6: int32\n",
       "occupancy6: double\n",
       "speed6: double\n",
       "flow7: int32\n",
       "occupancy7: double\n",
       "speed7: double\n",
       "flow8: int32\n",
       "occupancy8: double\n",
       "speed8: double\n",
       "station: dictionary<values=int64, indices=int32>\n",
       "-- metadata --\n",
       "org.apache.spark.sql.parquet.row.metadata: {\"type\":\"struct\",\"fields\":[{\"name\":\"timeperiod\",\"type\":\"string\",\"nullable\":true,\"metadata\":{}},{\"name\":\"flow1\",\"type\":\"integer\",\"nullable\":true,\"metadata\":{}},{\"name\":\"occupancy1\",\"type\":\"double\",\"nullable\":true,\"metadata\":{}},{\"name\":\"speed1\",\"type\":\"double\",\"nullable\":true,\"metadata\":{}},{\"name\":\"flow2\",\"type\":\"integer\",\"nullable\":true,\"metadata\":{}},{\"name\":\"occupancy2\",\"type\":\"double\",\"nullable\":true,\"metadata\":{}},{\"name\":\"speed2\",\"type\":\"double\",\"nullable\":true,\"metadata\":{}},{\"name\":\"flow3\",\"type\":\"integer\",\"nullable\":true,\"metadata\":{}},{\"name\":\"occupancy3\",\"type\":\"double\",\"nullable\":true,\"metadata\":{}},{\"name\":\"speed3\",\"type\":\"double\",\"nullable\":true,\"metadata\":{}},{\"name\":\"flow4\",\"type\":\"integer\",\"nullable\":true,\"metadata\":{}},{\"name\":\"occupancy4\",\"type\":\"double\",\"nullable\":true,\"metadata\":{}},{\"name\":\"speed4\",\"type\":\"double\",\"nullable\":true,\"metadata\":{}},{\"name\":\"flow5\",\"type\":\"integer\",\"nullable\":true,\"metadata\":{}},{\"name\":\"occupancy5\",\"type\":\"double\",\"nullable\":true,\"metadata\":{}},{\"name\":\"speed5\",\"type\":\"double\",\"nullable\":true,\"metadata\":{}},{\"name\":\"flow6\",\"type\":\"integer\",\"nullable\":true,\"metadata\":{}},{\"name\":\"occupancy6\",\"type\":\"double\",\"nullable\":true,\"metadata\":{}},{\"name\":\"speed6\",\"type\":\"double\",\"nullable\":true,\"metadata\":{}},{\"name\":\"flow7\",\"type\":\"integer\",\"nullable\":true,\"metadata\":{}},{\"name\":\"occupancy7\",\"type\":\"double\",\"nullable\":true,\"metadata\":{}},{\"name\":\"speed7\",\"type\":\"double\",\"nullable\":true,\"metadata\":{}},{\"name\":\"flow8\",\"type\":\"integer\",\"nullable\":true,\"metadata\":{}},{\"name\":\"occupancy8\",\"type\":\"double\",\"nullable\":true,\"metadata\":{}},{\"name\":\"speed8\",\"type\":\"double\",\"nullable\":true,\"metadata\":{}}]}"
      ]
     },
     "execution_count": 19,
     "metadata": {},
     "output_type": "execute_result"
    }
   ],
   "source": [
    "pems_table = pems.read()\n",
    "pems_table"
   ]
  },
  {
   "cell_type": "code",
   "execution_count": 20,
   "metadata": {
    "collapsed": true
   },
   "outputs": [],
   "source": [
    "pems_df = pems_table.to_pandas()"
   ]
  },
  {
   "cell_type": "code",
   "execution_count": null,
   "metadata": {
    "collapsed": true
   },
   "outputs": [],
   "source": []
  }
 ],
 "metadata": {
  "anaconda-cloud": {},
  "kernelspec": {
   "display_name": "Python [Root]",
   "language": "python",
   "name": "Python [Root]"
  },
  "language_info": {
   "codemirror_mode": {
    "name": "ipython",
    "version": 3
   },
   "file_extension": ".py",
   "mimetype": "text/x-python",
   "name": "python",
   "nbconvert_exporter": "python",
   "pygments_lexer": "ipython3",
   "version": "3.5.2"
  }
 },
 "nbformat": 4,
 "nbformat_minor": 0
}
